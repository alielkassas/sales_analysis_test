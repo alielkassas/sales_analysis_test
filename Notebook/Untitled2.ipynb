{
  "nbformat": 4,
  "nbformat_minor": 0,
  "metadata": {
    "colab": {
      "provenance": [],
      "authorship_tag": "ABX9TyPXq/OPjrjSJwfRzfn6lv3E",
      "include_colab_link": true
    },
    "kernelspec": {
      "name": "python3",
      "display_name": "Python 3"
    },
    "language_info": {
      "name": "python"
    }
  },
  "cells": [
    {
      "cell_type": "markdown",
      "metadata": {
        "id": "view-in-github",
        "colab_type": "text"
      },
      "source": [
        "<a href=\"https://colab.research.google.com/github/alielkassas/sales_analysis_test/blob/main/Notebook/Untitled2.ipynb\" target=\"_parent\"><img src=\"https://colab.research.google.com/assets/colab-badge.svg\" alt=\"Open In Colab\"/></a>"
      ]
    },
    {
      "cell_type": "code",
      "execution_count": null,
      "metadata": {
        "id": "7J1EMM2U_M51"
      },
      "outputs": [],
      "source": []
    },
    {
      "cell_type": "markdown",
      "source": [
        "Test pushing from colab to github"
      ],
      "metadata": {
        "id": "jH56pPeJ_NaS"
      }
    },
    {
      "cell_type": "code",
      "source": [],
      "metadata": {
        "id": "8bPneegC_QVx"
      },
      "execution_count": null,
      "outputs": []
    }
  ]
}